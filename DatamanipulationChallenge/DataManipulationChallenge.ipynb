{
 "cells": [
  {
   "cell_type": "markdown",
   "metadata": {},
   "source": [
    "# Working Environment\n",
    "\n",
    "We import all the packages you should need below. However, feel free to import extra packages. If you need to install some of these packages (ex: **rasterio**), you can access your shell and install like this: \n",
    "\n",
    "```shell\n",
    "!pip install myPackage\n",
    "```\n",
    "\n",
    "\n",
    "\n",
    "```shell\n",
    "!pip install -e git+https://github.com/scikit-learn/scikit-learn.git\n",
    "```"
   ]
  },
  {
   "cell_type": "code",
   "execution_count": null,
   "metadata": {
    "ExecuteTime": {
     "end_time": "2019-01-24T16:18:00.594676Z",
     "start_time": "2019-01-24T16:17:59.971330Z"
    }
   },
   "outputs": [],
   "source": [
    "# All the imports are here\n",
    "import warnings\n",
    "from os import listdir\n",
    "from os.path import isfile, join\n",
    "\n",
    "import numpy as np\n",
    "import rasterio\n",
    "\n",
    "from matplotlib import pyplot as plt\n",
    "%matplotlib inline "
   ]
  },
  {
   "cell_type": "markdown",
   "metadata": {},
   "source": [
    "# Data Manipulation Challenge description & instructions\n",
    "\n",
    "In this challenge, you will have to load and manipulate satellite images, a typical daily task at Kayrros. Data manipulation is one of the core skills one should master, even before thinking about fancy algorithms and data pipelines. \n",
    "\n",
    "You will not be required to have any specific knowledge on imagery, as we will provide you with the necessary guidelines.\n",
    "\n",
    "Please keep your code clean and don't forget to comment your code. You are also encouraged to provide as much detail as you can in markdown cells or in comments, even if you have ideas you do not have time to explore. We will evaluate the cleanliness of your code as much as your results.\n",
    "\n",
    "Have fun!"
   ]
  },
  {
   "cell_type": "markdown",
   "metadata": {},
   "source": [
    "# Data loading and data description"
   ]
  },
  {
   "cell_type": "markdown",
   "metadata": {},
   "source": [
    "## Setup"
   ]
  },
  {
   "cell_type": "code",
   "execution_count": null,
   "metadata": {
    "ExecuteTime": {
     "end_time": "2019-01-24T16:18:03.503949Z",
     "start_time": "2019-01-24T16:18:03.490124Z"
    },
    "code_folding": []
   },
   "outputs": [],
   "source": [
    "# Define the path where the images are located\n",
    "IMG_PATH = 'data/'\n",
    "\n",
    "# The functions below will be useful to load tif images as arrays\n",
    "def rio_open(p):\n",
    "    \"\"\"\n",
    "    Open an image with rasterio.\n",
    "\n",
    "    Args:\n",
    "        p: path to the image file\n",
    "\n",
    "    Returns:\n",
    "        rasterio dataset\n",
    "    \"\"\"\n",
    "    with warnings.catch_warnings():  # noisy warning may occur here\n",
    "        warnings.filterwarnings(\"ignore\", category=UserWarning)\n",
    "        return rasterio.open(p)\n",
    "\n",
    "def rio_read(p):\n",
    "    \"\"\"\n",
    "    Read an image with rasterio.\n",
    "\n",
    "    Args:\n",
    "        p: path to the image file\n",
    "\n",
    "    Returns:\n",
    "        numpy array\n",
    "    \"\"\"\n",
    "    with rio_open(p) as x:\n",
    "        return x.read().transpose((1, 2, 0)).squeeze()"
   ]
  },
  {
   "cell_type": "markdown",
   "metadata": {},
   "source": [
    "## Loading and visualizing your first random satellite image band\n",
    "\n",
    "Each satellite image is composed of 13 bands, going from visible light to near infrared. \n",
    "\n",
    "You will find these bands in the `data/` folder, under the format [image\\_date]\\_[image\\_number].tif\n",
    "\n",
    "The usual RGB images you are used to see (a picture for instance) are made of bands B02 (Blue), B03 (Green) and B04 (Red)"
   ]
  },
  {
   "cell_type": "code",
   "execution_count": null,
   "metadata": {
    "ExecuteTime": {
     "end_time": "2019-01-24T16:18:06.813357Z",
     "start_time": "2019-01-24T16:18:06.492184Z"
    }
   },
   "outputs": [],
   "source": [
    "# Here, we show you how to load a given band from a random image and to visualize it\n",
    "random_image_band = 'data/20170106_B02.tif'\n",
    "img = rio_read(random_image_band)\n",
    "plt.imshow(img)"
   ]
  },
  {
   "cell_type": "markdown",
   "metadata": {},
   "source": [
    "## Loading the data set\n",
    "\n",
    "In this section, you are expected to load the full data set in the following format: **dataset = {img\\_date: {'B01': img\\_B01_array, ..., 'B12': img\\_B12_array}}**, where img\\_B0X_array are the image bands as arrays, i.e. the output of the rio_read() function"
   ]
  },
  {
   "cell_type": "code",
   "execution_count": null,
   "metadata": {
    "ExecuteTime": {
     "end_time": "2019-01-24T16:18:08.107503Z",
     "start_time": "2019-01-24T16:18:08.102910Z"
    }
   },
   "outputs": [],
   "source": [
    "# Load the dataset under the required format\n",
    "# WRITE YOUR CODE HERE\n",
    "\n",
    "# Sanity check: visualize the 3rd band of the image from 2018/05/31\n",
    "# WRITE YOUR CODE HERE"
   ]
  },
  {
   "cell_type": "markdown",
   "metadata": {},
   "source": [
    "# Generating a RGB image \n",
    "\n",
    "Now we know how to visualize a given satellite image band, we are going to build a function that will allow us to visualize a given satellite image as an RGB image.\n",
    "\n",
    "A RGB image can be represented as a 3D array, with the dimensions [channel, img_height, img_width] or [img_height, img_width, channel], with channels B02, B03 and B04."
   ]
  },
  {
   "cell_type": "code",
   "execution_count": null,
   "metadata": {
    "ExecuteTime": {
     "end_time": "2019-01-24T16:19:52.345818Z",
     "start_time": "2019-01-24T16:19:52.341174Z"
    }
   },
   "outputs": [],
   "source": [
    "# In order to test your function, you can use the following random image\n",
    "# We want to display the image as an RGB composite, i.e. B04, B03, B02\n",
    "img = np.array([dataset['20170630']['B04'], dataset['20170630']['B03'], dataset['20170630']['B02']])"
   ]
  },
  {
   "cell_type": "code",
   "execution_count": null,
   "metadata": {
    "ExecuteTime": {
     "end_time": "2019-01-24T16:19:56.306916Z",
     "start_time": "2019-01-24T16:19:56.299069Z"
    }
   },
   "outputs": [],
   "source": [
    "# Build your function that takes as input, a 3D array with B04, B03, B02 bands and returns the final rgb_img ready to be visualized\n",
    "\n",
    "# WRITE YOUR CODE HERE by completing the function below\n",
    "\n",
    "def generate_rgb_img(img):\n",
    "    \n",
    "    # 1. First, you need to normalize your image. Otherwise you won't be able to visualize it.\n",
    "    # Normalise your image here\n",
    "    \n",
    "    # 2. The function imshow() allows you to visualise an RGB image, but it needs to be under the format [img_height, img_width, channel_number]\n",
    "    # It's currently under the format [channel_number, img_height, img_width], so transform the image into the correct format\n",
    "    \n",
    "    # Display the RGB image\n",
    "    return None\n",
    "\n",
    "# Sanity check: test your function\n",
    "# WRITE YOUR CODE HERE"
   ]
  },
  {
   "cell_type": "markdown",
   "metadata": {},
   "source": [
    "# Detecting patterns in satellite imagery: flaring detection\n",
    "In this section, we are going to detect some activity that might be difficult to observe in an RGB image by utilizing other satellite bands.\n",
    "\n",
    "The activity we want to detect is called flaring: the process of burning gas in an open flame, which can be detected easily in the infrared spectrum picked up by the satellite."
   ]
  },
  {
   "cell_type": "code",
   "execution_count": null,
   "metadata": {
    "ExecuteTime": {
     "end_time": "2019-01-24T16:20:13.794962Z",
     "start_time": "2019-01-24T16:20:13.791344Z"
    }
   },
   "outputs": [],
   "source": [
    "# Load and visualize the RGB image on 2018/05/31. Can you easily identify flaring ?\n",
    "\n",
    "# WRITE YOUR CODE HERE"
   ]
  },
  {
   "cell_type": "code",
   "execution_count": null,
   "metadata": {
    "ExecuteTime": {
     "end_time": "2019-01-24T14:37:36.768499Z",
     "start_time": "2019-01-24T14:37:36.761111Z"
    }
   },
   "outputs": [],
   "source": [
    "# You can generate a heatmap by simply adding B11 and B12, that is to say: heatmap = B11 + B12\n",
    "# Below, generate a heatmap of the image and visualize it. You should see a clear signal on the center-right of the image\n",
    "\n",
    "# WRITE YOUR CODE HERE"
   ]
  },
  {
   "cell_type": "code",
   "execution_count": null,
   "metadata": {},
   "outputs": [],
   "source": [
    "# To help us automate the detection process, it is easier to produce a mask of the flaring activity\n",
    "# We can consider that there is flaring activity on a pixel if the value of the pixel is above 15,000\n",
    "# Generate a mask of the flaring activity in the previous heatmap (mask: pixel=1 where there is flaring, pixel=0 where there is no flaring)\n",
    "# Visualize the resulting mask\n",
    "\n",
    "# WRITE YOUR CODE HERE"
   ]
  },
  {
   "cell_type": "code",
   "execution_count": null,
   "metadata": {
    "ExecuteTime": {
     "end_time": "2019-01-24T17:10:41.004319Z",
     "start_time": "2019-01-24T17:10:40.997411Z"
    }
   },
   "outputs": [],
   "source": [
    "# We consider an image to have flaring activity if the number of pixels above 15.000 in an image is >= 5.\n",
    "# Write below a function that returns all the dates for which we should detect flaring activity in the data we provided\n",
    "\n",
    "# WRITE YOUR CODE HERE"
   ]
  },
  {
   "cell_type": "markdown",
   "metadata": {},
   "source": [
    "Question: if you had 1,000 images to process, would you keep the same code structure? What would you change?"
   ]
  },
  {
   "cell_type": "code",
   "execution_count": null,
   "metadata": {
    "ExecuteTime": {
     "end_time": "2019-01-24T16:27:09.984147Z",
     "start_time": "2019-01-24T16:27:09.980327Z"
    }
   },
   "outputs": [],
   "source": [
    "# Answer the question here, no need to re-write any code"
   ]
  },
  {
   "cell_type": "markdown",
   "metadata": {},
   "source": [
    "# More fun on data manipulation: zooming in an image on the flaring activity detected"
   ]
  },
  {
   "cell_type": "code",
   "execution_count": null,
   "metadata": {},
   "outputs": [],
   "source": [
    "# First, find the center of the flaring activity, that is to say, given all the images for which you detected that there was a flare, \n",
    "# combine them to find the center of the flaring activity in the image time series\n",
    "# Your code should return the index of the pixel at the center of the flaring activity\n",
    "\n",
    "# WRITE YOUR CODE HERE"
   ]
  },
  {
   "cell_type": "code",
   "execution_count": null,
   "metadata": {
    "ExecuteTime": {
     "end_time": "2019-01-24T17:17:27.046195Z",
     "start_time": "2019-01-24T17:17:27.040702Z"
    }
   },
   "outputs": [],
   "source": [
    "# Then, make a crop of band B02 using an image of your choice, centered on the pixel at the center of the flaring activity, with a size of 50 x 50 pixels\n",
    "# If the crop is not entirely contained in the image, you can complete the missing pixels of the crop with the value 0\n",
    "# Do not use any pre-built cropping functions from other libraries, only use umpy array manipulation.\n",
    "# Visualize the crop\n",
    "\n",
    "# WRITE YOUR CODE HERE"
   ]
  },
  {
   "cell_type": "code",
   "execution_count": null,
   "metadata": {},
   "outputs": [],
   "source": [
    "# Finally, zoom (expand the size) of the previously obtained crop, i.e. produce an image of size 100x100 pixels from the crop of size 50x50\n",
    "# Do not use any pre-built functions from other libraries\n",
    "# For this, you will have to create \"new\" pixels, that you can either interpolate or duplicate from neighboring existing pixels\n",
    "# Visualize the resulting image\n",
    "\n",
    "# WRITE YOUR CODE HERE"
   ]
  },
  {
   "cell_type": "markdown",
   "metadata": {
    "ExecuteTime": {
     "end_time": "2019-01-24T14:54:23.277797Z",
     "start_time": "2019-01-24T14:54:23.272366Z"
    },
    "collapsed": true
   },
   "source": [
    "CONGRATS ! You made it. We hope you had fun, please send back your solution in due time."
   ]
  }
 ],
 "metadata": {
  "kernelspec": {
   "display_name": "Python 3",
   "language": "python",
   "name": "python3"
  },
  "language_info": {
   "codemirror_mode": {
    "name": "ipython",
    "version": 3
   },
   "file_extension": ".py",
   "mimetype": "text/x-python",
   "name": "python",
   "nbconvert_exporter": "python",
   "pygments_lexer": "ipython3",
   "version": "3.6.9"
  },
  "toc": {
   "base_numbering": 1,
   "nav_menu": {
    "height": "160px",
    "width": "254px"
   },
   "number_sections": true,
   "sideBar": true,
   "skip_h1_title": false,
   "title_cell": "Table of Contents",
   "title_sidebar": "Contents",
   "toc_cell": false,
   "toc_position": {},
   "toc_section_display": "block",
   "toc_window_display": false
  },
  "varInspector": {
   "cols": {
    "lenName": 16,
    "lenType": 16,
    "lenVar": 40
   },
   "kernels_config": {
    "python": {
     "delete_cmd_postfix": "",
     "delete_cmd_prefix": "del ",
     "library": "var_list.py",
     "varRefreshCmd": "print(var_dic_list())"
    },
    "r": {
     "delete_cmd_postfix": ") ",
     "delete_cmd_prefix": "rm(",
     "library": "var_list.r",
     "varRefreshCmd": "cat(var_dic_list()) "
    }
   },
   "types_to_exclude": [
    "module",
    "function",
    "builtin_function_or_method",
    "instance",
    "_Feature"
   ],
   "window_display": false
  }
 },
 "nbformat": 4,
 "nbformat_minor": 2
}
